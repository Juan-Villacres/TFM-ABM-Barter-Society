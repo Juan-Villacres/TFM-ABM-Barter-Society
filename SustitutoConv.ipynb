{
  "cells": [
    {
      "cell_type": "markdown",
      "metadata": {
        "id": "5fyJTGNb0e86"
      },
      "source": [
        "# Importar"
      ]
    },
    {
      "cell_type": "code",
      "execution_count": null,
      "metadata": {
        "id": "uOsCkDEGrSdv"
      },
      "outputs": [],
      "source": [
        "import tensorflow as tf\n",
        "import keras\n",
        "import numpy as np\n",
        "import matplotlib.pyplot as plt\n",
        "import pandas as pd\n",
        "import random\n",
        "from scipy.integrate import odeint\n",
        "from keras.models import Sequential\n",
        "from keras.layers import Conv2D, MaxPooling2D, Flatten, Dense, Dropout\n",
        "#from keras.layers import *\n",
        "from keras.callbacks import ModelCheckpoint\n",
        "from keras.losses import MeanSquaredError\n",
        "from keras.metrics import RootMeanSquaredError\n",
        "from keras.optimizers import Adam\n",
        "from keras.callbacks import EarlyStopping\n"
      ]
    },
    {
      "cell_type": "markdown",
      "source": [
        "# Funciones de ayuda"
      ],
      "metadata": {
        "id": "xq1NKOcm_YPc"
      }
    },
    {
      "cell_type": "code",
      "source": [
        "# Lotka Volterra mutualismo\n",
        "def sim(variables, t, params):\n",
        "\n",
        "      # fish population level\n",
        "      x = variables[0]\n",
        "      # bear population level\n",
        "      y = variables[1]\n",
        "      r1 = params[0]\n",
        "      r2 = params[1]\n",
        "      alpha = params[2]\n",
        "      beta = params[3]\n",
        "      delta = params[4]\n",
        "      gamma = params[5]\n",
        "\n",
        "      dxdt = r1*x*(1 - alpha*x + beta* y)\n",
        "      dydt = r2*y*(1 + delta*x - gamma*y)\n",
        "\n",
        "      return([dxdt, dydt])\n",
        "\n",
        "# Lotka Volterra competencia\n",
        "def sim1(variables, t, paramsc):\n",
        "\n",
        "    # fish population level\n",
        "    x = variables[0]\n",
        "\n",
        "    # bear population level\n",
        "    y = variables[1]\n",
        "\n",
        "\n",
        "    alpha = paramsc[0]\n",
        "    beta = paramsc[1]\n",
        "    delta = paramsc[2]\n",
        "    gamma = paramsc[3]\n",
        "\n",
        "    dxdtc = alpha * x - beta * x * y\n",
        "    dydtc = delta * x * y - gamma * y\n",
        "\n",
        "    return([dxdtc, dydtc])\n"
      ],
      "metadata": {
        "id": "I1Pbiu9Q_Xc-"
      },
      "execution_count": null,
      "outputs": []
    },
    {
      "cell_type": "markdown",
      "source": [
        "#Función trueque mutualista"
      ],
      "metadata": {
        "id": "4Al6pqnVbyEz"
      }
    },
    {
      "cell_type": "code",
      "source": [
        "def tru_mut(Pi, Pi1):\n",
        "    P = Pi.copy()\n",
        "    P1 = Pi1.copy()\n",
        "    inicial = np.concatenate((Pi, Pi1))\n",
        "    #varianza0 muestra la varianza de la distribución inicial de capacidad de trueque\n",
        "    #varianza0 = np.var(inicial)\n",
        "    M = []\n",
        "    t = np.arange(0, 201, 1)\n",
        "    n = len(P)\n",
        "    # Esto lo usé para ayudarme a establecer la mínima varianza\n",
        "    varP = np.zeros(len(t))\n",
        "    varP1 = np.zeros(len(t))\n",
        "    # Todo este código hace las transacciones a lo largo del tiempo de manera que cada vez que una persona gana 1 bien o servicio\n",
        "    # otra pierde un bien o servicio\n",
        "    for step in range(len(t)):\n",
        "        # Toma cada uno de los 4 grupos de tres personas y en cada grupo escoge una al azar que va a dar un bien o servicio (-1 bien o servicio)\n",
        "        # y las otras compiten con un algoritmo basado en lotka-volterra mutualismo\n",
        "        varP[step] = np.var(P)\n",
        "        varP1[step] = np.var(P1)\n",
        "\n",
        "        for _ in range(4):\n",
        "\n",
        "            iq = random.randint(0, n-1)\n",
        "            iq1 = random.randint(0, n-1)\n",
        "            ilv1 = random.randint(0, n-1)\n",
        "            ilv11 = random.randint(0, n-1)\n",
        "            ilv2 = random.randint(0, n-1)\n",
        "            ilv12 = random.randint(0, n-1)\n",
        "\n",
        "            P[iq] -= 1\n",
        "            P1[iq1] -= 1\n",
        "            # Inicializar y0 con la capacidad de trueque de las personas elegidas a interactuar en mutualismo\n",
        "            y0 = [Pi[ilv1], Pi[ilv2]]\n",
        "            y10 = [Pi1[ilv11], Pi1[ilv12]]\n",
        "\n",
        "            # Se avanza en el tiempo paso a paso para ser evaluado a cada instante en odeint\n",
        "            tn = np.arange(0, (step+1), 1)\n",
        "\n",
        "            params = [0.01, 0.01, 0.2, 0.1, 0.1, 0.2]\n",
        "\n",
        "            # result contiene la derivada de la capacidad de trueque\n",
        "            result = odeint(sim, y0, tn, args=(params,))\n",
        "            result1 = odeint(sim, y10, tn, args=(params,))\n",
        "            R = result[-1, :]\n",
        "            R1 = result1[-1, :]\n",
        "            dxdt, dydt = sim(R, tn, params)\n",
        "            dxdt1, dydt1 = sim(R1, tn, params)\n",
        "            # Al comparar las derivadas se decide darle un bien o servicio al que tenga el valor mayor de derivada\n",
        "            if dxdt > dydt:\n",
        "                P[ilv1] += 1\n",
        "            else:\n",
        "                P[ilv2] += 1\n",
        "\n",
        "            if dxdt1 > dydt1:\n",
        "                P1[ilv11] += 1\n",
        "            else:\n",
        "                P1[ilv12] += 1\n",
        "            nfil = np.concatenate((P, P1))\n",
        "            M.append(nfil)\n",
        "\n",
        "    # Aquí se identifica una fila de la matriz M de acuerdo a la menor varianza encontrada ya sea en P o en P1\n",
        "    indopt = np.argmin(varP)\n",
        "    indopt1 = np.argmin(varP1)\n",
        "    if indopt <= indopt1:\n",
        "        m = indopt\n",
        "        Fini = M[4*(m+1)]\n",
        "    else:\n",
        "        m = indopt1\n",
        "        Fini = M[4*(m+1)]\n",
        "    # A partir de esa fila tenemos PP y PP1\n",
        "    # Primero saco una copia de la última fila de este proceso para abajo hacer un gráfico de barras\n",
        "    fini = Fini.copy()\n",
        "    PP = Fini[:12]\n",
        "    PP1 = Fini[12:]\n",
        "    # Esta es la primera parte de la matriz total que va a alimentar la red neuronal\n",
        "    L =np.array(M[:4*(m+1)])\n",
        "    #varianza1 muestra la varianza para la distribución de capacidad de trueque luego del trueque mutualista\n",
        "    #varianza1 = np.var(fini)\n",
        "    dim=L.shape[0]\n",
        "    #El return comentado nos permite constatar la como disminuye la varianza después del trueque mutualista\n",
        "    #return(varianza0, varianza1, dim, L)\n",
        "    return (dim , L)\n"
      ],
      "metadata": {
        "id": "XphwPxobbwUY"
      },
      "execution_count": null,
      "outputs": []
    },
    {
      "cell_type": "markdown",
      "source": [
        "#Generación de la matriz de datos\n"
      ],
      "metadata": {
        "id": "oso3QPz0jtEM"
      }
    },
    {
      "cell_type": "code",
      "source": [
        "matrices = []\n",
        "lim = []\n",
        "for i in range(50):\n",
        "  T=np.random.randint(1, 51, size=12)\n",
        "  T1=np.random.randint(1, 51, size=12)\n",
        "  nueva_matriz = tru_mut(T,T1)[1]\n",
        "  matrices.append(nueva_matriz)\n",
        "  lim.append(tru_mut(T,T1)[0])\n",
        "\n",
        "matriz_final = np.vstack(matrices)\n",
        "\n",
        "#print(\"Forma de la matriz final:\", matriz_final.shape)\n",
        "print(lim)"
      ],
      "metadata": {
        "colab": {
          "base_uri": "https://localhost:8080/"
        },
        "id": "vP0o363khjII",
        "outputId": "9c16ca58-20f9-43c6-b499-139655991db3"
      },
      "execution_count": null,
      "outputs": [
        {
          "output_type": "stream",
          "name": "stdout",
          "text": [
            "[224, 196, 200, 264, 300, 232, 116, 256, 240, 204, 228, 236, 208, 248, 140, 204, 200, 216, 240, 160, 264, 248, 196, 208, 300, 212, 184, 192, 252, 164, 180, 292, 320, 200, 128, 160, 292, 232, 188, 156, 160, 260, 240, 216, 152, 180, 288, 244, 168, 196]\n"
          ]
        }
      ]
    },
    {
      "cell_type": "markdown",
      "source": [
        "# El dataframe para la red neuronal"
      ],
      "metadata": {
        "id": "HJHObzzHJnuK"
      }
    },
    {
      "cell_type": "code",
      "source": [
        "nf = matriz_final.shape[0]\n",
        "Datos = []\n",
        "for i in range(nf - 1):\n",
        "    # Utilizar append para agregar las diferencias a la lista\n",
        "    Datos.append(matriz_final[i + 1] - matriz_final[i])\n",
        "\n",
        "# Convertir datos a numpy\n",
        "Datos = np.array(Datos)\n",
        "\n",
        "#Voy a convertirlo en un dataframe de pandas\n",
        "\n",
        "columnas = ['Persona1', 'Persona2', 'Persona3','Persona4', 'Persona5', 'Persona6',\n",
        "            'Persona7', 'Persona8', 'Persona9','Persona10', 'Persona11', 'Persona12',\n",
        "            'Persona13', 'Persona14', 'Persona15','Persona16', 'Persona17', 'Persona18',\n",
        "            'Persona19', 'Persona20', 'Persona21','Persona22', 'Persona23', 'Persona24']\n",
        "df = pd.DataFrame(Datos, columns=columnas)\n",
        "\n",
        "\n"
      ],
      "metadata": {
        "id": "pB_eFBV3JnGL"
      },
      "execution_count": null,
      "outputs": []
    },
    {
      "cell_type": "code",
      "source": [
        "print(df)"
      ],
      "metadata": {
        "colab": {
          "base_uri": "https://localhost:8080/"
        },
        "id": "0qhHjtck3-Ks",
        "outputId": "c5a26c72-a073-417d-e5fb-70acb152b1c8"
      },
      "execution_count": null,
      "outputs": [
        {
          "output_type": "stream",
          "name": "stdout",
          "text": [
            "       Persona1  Persona2  Persona3  Persona4  Persona5  Persona6  Persona7  \\\n",
            "0             0         0         0         0         0         0         0   \n",
            "1            -1         0         0         0         0         0         1   \n",
            "2             1         0         0         0         0         0        -1   \n",
            "3             0         0         0        -1         0         0         0   \n",
            "4            -1         0         0         0         0         0         0   \n",
            "...         ...       ...       ...       ...       ...       ...       ...   \n",
            "11446         0         0         0         0         1         0         0   \n",
            "11447         0         0         1        -1         0         0         0   \n",
            "11448         0         0         0         1         0         0         0   \n",
            "11449         0         0         0         0         0         0         0   \n",
            "11450         0         0         1        -1         0         0         0   \n",
            "\n",
            "       Persona8  Persona9  Persona10  ...  Persona15  Persona16  Persona17  \\\n",
            "0             0         0          0  ...          0          0          0   \n",
            "1             0         0          0  ...          0          0          0   \n",
            "2             0         0          0  ...          0          0          1   \n",
            "3             0         0          0  ...          0          0          0   \n",
            "4             0         0          0  ...          0          0          0   \n",
            "...         ...       ...        ...  ...        ...        ...        ...   \n",
            "11446         0        -1          0  ...          0          0         -1   \n",
            "11447         0         0          0  ...          1          0          0   \n",
            "11448         0         0          0  ...          0          0          0   \n",
            "11449         0         0          0  ...          0          0          0   \n",
            "11450         0         0          0  ...          0          0          0   \n",
            "\n",
            "       Persona18  Persona19  Persona20  Persona21  Persona22  Persona23  \\\n",
            "0              0          0          0          0          0          0   \n",
            "1             -1          0          0          0          0          0   \n",
            "2              0          0          0          0          0         -1   \n",
            "3              0          0          0          0          1          0   \n",
            "4              0          1          0         -1          0          0   \n",
            "...          ...        ...        ...        ...        ...        ...   \n",
            "11446          0          0          0          0          0          0   \n",
            "11447          0          0          0          0         -1          0   \n",
            "11448          1          0         -1          0          0          0   \n",
            "11449          0         -1          0          1          0          0   \n",
            "11450          0          1          0         -1          0          0   \n",
            "\n",
            "       Persona24  \n",
            "0              1  \n",
            "1              0  \n",
            "2              0  \n",
            "3              0  \n",
            "4              0  \n",
            "...          ...  \n",
            "11446          1  \n",
            "11447          0  \n",
            "11448          0  \n",
            "11449          0  \n",
            "11450          0  \n",
            "\n",
            "[11451 rows x 24 columns]\n"
          ]
        }
      ]
    },
    {
      "cell_type": "code",
      "source": [
        "Persona1 = df['Persona1']\n",
        "Persona1.plot()"
      ],
      "metadata": {
        "id": "A6trVLjFTRGl",
        "colab": {
          "base_uri": "https://localhost:8080/"
        },
        "outputId": "ba299502-f6ae-4c89-a0cc-c8ba303650bd"
      },
      "execution_count": null,
      "outputs": [
        {
          "output_type": "execute_result",
          "data": {
            "text/plain": [
              "<Axes: >"
            ]
          },
          "metadata": {},
          "execution_count": 9
        },
        {
          "output_type": "display_data",
          "data": {
            "text/plain": [
              "<Figure size 640x480 with 1 Axes>"
            ],
            "image/png": "[encoded data removed]"
          },
          "metadata": {}
        }
      ]
    },
    {
      "cell_type": "markdown",
      "source": [
        "# Preparación de datos para las Redes Neuronales"
      ],
      "metadata": {
        "id": "EGeePBVkMG-U"
      }
    },
    {
      "cell_type": "code",
      "source": [
        "df0.shape"
      ],
      "metadata": {
        "id": "YiheyZe-MGH1",
        "colab": {
          "base_uri": "https://localhost:8080/"
        },
        "outputId": "2faeab82-292b-4ee7-dfff-659ee3f3f46b"
      },
      "execution_count": null,
      "outputs": [
        {
          "output_type": "execute_result",
          "data": {
            "text/plain": [
              "(11452, 24)"
            ]
          },
          "metadata": {},
          "execution_count": 10
        }
      ]
    },
    {
      "cell_type": "code",
      "source": [
        "def df_to_X_y0(df, window_size=4):\n",
        "  df_as_np = df.to_numpy()\n",
        "  X0 = []\n",
        "  y0 = []\n",
        "  for step in range(50):\n",
        "    for i in range(lim[step]-window_size):\n",
        "      row = [r for r in df_as_np[i:i+window_size]]\n",
        "      X0.append(row)\n",
        "      label = df_as_np[i+window_size]\n",
        "      y0.append(label)\n",
        "  return np.array(X0), np.array(y0)"
      ],
      "metadata": {
        "id": "ZC-gDaT5s6QM"
      },
      "execution_count": null,
      "outputs": []
    },
    {
      "cell_type": "code",
      "source": [
        "def df_to_X_y1(df, window_size=4):\n",
        "  df_as_np = df.to_numpy()\n",
        "  X1 = []\n",
        "  y1 = []\n",
        "  for step in range(50):\n",
        "    for i in range(lim[step]-window_size-1):\n",
        "      row = [r for r in df_as_np[i:i+window_size]]\n",
        "      X1.append(row)\n",
        "      label = df_as_np[i+window_size]\n",
        "      y1.append(label)\n",
        "  return np.array(X1), np.array(y1)"
      ],
      "metadata": {
        "id": "9z8VmfzsmBV-"
      },
      "execution_count": null,
      "outputs": []
    },
    {
      "cell_type": "code",
      "source": [
        "X0, y0 = df_to_X_y0(df0)\n",
        "X0.shape, y0.shape"
      ],
      "metadata": {
        "colab": {
          "base_uri": "https://localhost:8080/"
        },
        "id": "OqGKOc15HBEk",
        "outputId": "454a8b60-631d-4ef3-bf13-7a42ec65af59"
      },
      "execution_count": null,
      "outputs": [
        {
          "output_type": "execute_result",
          "data": {
            "text/plain": [
              "((10584, 4, 24), (10584, 24))"
            ]
          },
          "metadata": {},
          "execution_count": 13
        }
      ]
    },
    {
      "cell_type": "code",
      "source": [
        "X1, y1 = df_to_X_y1(df)\n",
        "X1.shape, y1.shape"
      ],
      "metadata": {
        "colab": {
          "base_uri": "https://localhost:8080/"
        },
        "id": "2qCv-FL6uGNd",
        "outputId": "6dbb2c7e-2e79-4817-c73a-7bfba011fe21"
      },
      "execution_count": null,
      "outputs": [
        {
          "output_type": "execute_result",
          "data": {
            "text/plain": [
              "((10534, 4, 24), (10534, 24))"
            ]
          },
          "metadata": {},
          "execution_count": 14
        }
      ]
    },
    {
      "cell_type": "code",
      "source": [
        "X0_train, y0_train = X0[:7500], y0[:7500]\n",
        "X0_val, y0_val = X0[7500:8500], y0[7500:8500]\n",
        "X0_test, y0_test = X0[8500:], y0[8500:]\n",
        "X0_train.shape, y0_train.shape, X0_val.shape, y0_val.shape, X0_test.shape, y0_test.shape"
      ],
      "metadata": {
        "colab": {
          "base_uri": "https://localhost:8080/"
        },
        "id": "I_ZQmQhquvuJ",
        "outputId": "65d4653d-3f28-4055-bc59-59816a2009c9"
      },
      "execution_count": null,
      "outputs": [
        {
          "output_type": "execute_result",
          "data": {
            "text/plain": [
              "((7500, 4, 24),\n",
              " (7500, 24),\n",
              " (1000, 4, 24),\n",
              " (1000, 24),\n",
              " (2084, 4, 24),\n",
              " (2084, 24))"
            ]
          },
          "metadata": {},
          "execution_count": 15
        }
      ]
    },
    {
      "cell_type": "code",
      "source": [
        "X1_train, y1_train = X1[:7500], y1[:7500]\n",
        "X1_val, y1_val = X1[7500:8500], y1[7500:8500]\n",
        "X1_test, y1_test = X1[8500:], y1[8500:]\n",
        "X1_train.shape, y1_train.shape, X1_val.shape, y1_val.shape, X1_test.shape, y1_test.shape"
      ],
      "metadata": {
        "id": "inNt-31pHDac",
        "colab": {
          "base_uri": "https://localhost:8080/"
        },
        "outputId": "7d872af8-953c-4338-b799-78393c203ae9"
      },
      "execution_count": null,
      "outputs": [
        {
          "output_type": "execute_result",
          "data": {
            "text/plain": [
              "((7500, 4, 24),\n",
              " (7500, 24),\n",
              " (1000, 4, 24),\n",
              " (1000, 24),\n",
              " (2034, 4, 24),\n",
              " (2034, 24))"
            ]
          },
          "metadata": {},
          "execution_count": 16
        }
      ]
    },
    {
      "cell_type": "code",
      "source": [
        "XX=X1[0]\n",
        "XX"
      ],
      "metadata": {
        "colab": {
          "base_uri": "https://localhost:8080/"
        },
        "id": "BLDIA6MoT4le",
        "outputId": "682cd3eb-2c7e-43fa-a269-aaae2884ac22"
      },
      "execution_count": null,
      "outputs": [
        {
          "output_type": "execute_result",
          "data": {
            "text/plain": [
              "array([[ 0,  0,  0,  0,  0,  0,  0,  0,  0,  0, -1,  1,  0, -1,  0,  0,\n",
              "         0,  0,  0,  0,  0,  0,  0,  1],\n",
              "       [-1,  0,  0,  0,  0,  0,  1,  0,  0,  0,  0,  0,  1,  0,  0,  0,\n",
              "         0, -1,  0,  0,  0,  0,  0,  0],\n",
              "       [ 1,  0,  0,  0,  0,  0, -1,  0,  0,  0,  0,  0,  0,  0,  0,  0,\n",
              "         1,  0,  0,  0,  0,  0, -1,  0],\n",
              "       [ 0,  0,  0, -1,  0,  0,  0,  0,  0,  0,  0,  1,  0, -1,  0,  0,\n",
              "         0,  0,  0,  0,  0,  1,  0,  0]])"
            ]
          },
          "metadata": {},
          "execution_count": 19
        }
      ]
    },
    {
      "cell_type": "code",
      "source": [
        "X0_train[0]"
      ],
      "metadata": {
        "colab": {
          "base_uri": "https://localhost:8080/"
        },
        "id": "xr8mY2k6ASL8",
        "outputId": "14b19e7b-afb4-4702-d250-a349d299e1ef"
      },
      "execution_count": null,
      "outputs": [
        {
          "output_type": "execute_result",
          "data": {
            "text/plain": [
              "array([[36, 31,  4,  5, 38, 30, 11, 38, 11, 46, 22, 42, 26, 13, 11,  9,\n",
              "        26, 14, 23, 17, 20, 40,  6,  5],\n",
              "       [36, 31,  4,  5, 38, 30, 11, 38, 11, 46, 22, 42, 26, 12, 11,  9,\n",
              "        26, 14, 23, 17, 20, 40,  7,  5],\n",
              "       [36, 31,  4,  6, 38, 30, 10, 38, 11, 46, 22, 42, 26, 12, 11,  9,\n",
              "        26, 14, 23, 17, 19, 40,  8,  5],\n",
              "       [36, 31,  4,  5, 38, 30, 11, 38, 11, 46, 22, 42, 26, 12, 11,  9,\n",
              "        26, 14, 23, 17, 19, 40,  8,  5]])"
            ]
          },
          "metadata": {},
          "execution_count": 20
        }
      ]
    },
    {
      "cell_type": "code",
      "source": [
        "y0_train[0]"
      ],
      "metadata": {
        "colab": {
          "base_uri": "https://localhost:8080/"
        },
        "id": "BQhH4it8vvHP",
        "outputId": "b00290cd-ea09-42e6-a266-6d1e4faed46d"
      },
      "execution_count": null,
      "outputs": [
        {
          "output_type": "execute_result",
          "data": {
            "text/plain": [
              "array([36, 31,  4,  6, 38, 29, 11, 38, 11, 46, 22, 42, 26, 12, 11,  9, 26,\n",
              "       14, 23, 17, 19, 39,  9,  5])"
            ]
          },
          "metadata": {},
          "execution_count": 21
        }
      ]
    },
    {
      "cell_type": "code",
      "source": [
        "X1_train[0]"
      ],
      "metadata": {
        "colab": {
          "base_uri": "https://localhost:8080/"
        },
        "id": "ZIgXJdgXvY6E",
        "outputId": "7d5a0d4e-7d10-4ffe-a82a-5e48508fe400"
      },
      "execution_count": null,
      "outputs": [
        {
          "output_type": "execute_result",
          "data": {
            "text/plain": [
              "array([[ 0,  0,  0,  0,  0,  0,  0,  0,  0,  0,  0,  0,  0, -1,  0,  0,\n",
              "         0,  0,  0,  0,  0,  0,  1,  0],\n",
              "       [ 0,  0,  0,  1,  0,  0, -1,  0,  0,  0,  0,  0,  0,  0,  0,  0,\n",
              "         0,  0,  0,  0, -1,  0,  1,  0],\n",
              "       [ 0,  0,  0, -1,  0,  0,  1,  0,  0,  0,  0,  0,  0,  0,  0,  0,\n",
              "         0,  0,  0,  0,  0,  0,  0,  0],\n",
              "       [ 0,  0,  0,  1,  0, -1,  0,  0,  0,  0,  0,  0,  0,  0,  0,  0,\n",
              "         0,  0,  0,  0,  0, -1,  1,  0]])"
            ]
          },
          "metadata": {},
          "execution_count": 22
        }
      ]
    },
    {
      "cell_type": "code",
      "source": [
        "y1_train[0]"
      ],
      "metadata": {
        "colab": {
          "base_uri": "https://localhost:8080/"
        },
        "id": "SmGguwWZBDw5",
        "outputId": "ec2a7bb9-797f-42c4-ab5e-332538dd083b"
      },
      "execution_count": null,
      "outputs": [
        {
          "output_type": "execute_result",
          "data": {
            "text/plain": [
              "array([ 0,  1,  0,  0,  0,  0,  0, -1,  0,  0,  0,  0,  0,  0,  1,  0,  0,\n",
              "       -1,  0,  0,  0,  0,  0,  0])"
            ]
          },
          "metadata": {},
          "execution_count": 23
        }
      ]
    },
    {
      "cell_type": "markdown",
      "source": [
        "# Modelo 2 basado en detección de imágenes con convolución"
      ],
      "metadata": {
        "id": "v_x4Jj7PmrQp"
      }
    },
    {
      "cell_type": "code",
      "source": [
        "early_stopping_callback = EarlyStopping(\n",
        "    monitor='val_loss',\n",
        "    patience=3,\n",
        "    restore_best_weights=True)\n",
        "keras.utils.set_random_seed(812)\n",
        "model2 = Sequential()\n",
        "model2.add(Conv2D(filters=32, kernel_size=(2,2), activation='relu', input_shape=(4,24,1)))\n",
        "model2.add(Conv2D(filters=64, kernel_size=(2,2), activation='relu'))\n",
        "model2.add(Conv2D(filters=128, kernel_size=(1,2), activation='relu'))\n",
        "model2.add(Flatten())\n",
        "model2.add(Dense(96,activation='relu'))\n",
        "model2.add(Dense(96,activation='relu'))\n",
        "model2.add(Dropout(0.3))\n",
        "model2.add(Dense(24,activation='linear'))"
      ],
      "metadata": {
        "id": "JdwQY5LEm0Tf"
      },
      "execution_count": null,
      "outputs": []
    },
    {
      "cell_type": "code",
      "source": [
        "model2.summary()"
      ],
      "metadata": {
        "colab": {
          "base_uri": "https://localhost:8080/"
        },
        "id": "lIh6tqe3pN2F",
        "outputId": "53ea2dee-b9f8-44d5-de0e-8e43dc801ee1"
      },
      "execution_count": null,
      "outputs": [
        {
          "output_type": "stream",
          "name": "stdout",
          "text": [
            "Model: \"sequential\"\n",
            "_________________________________________________________________\n",
            " Layer (type)                Output Shape              Param #   \n",
            "=================================================================\n",
            " conv2d (Conv2D)             (None, 3, 23, 32)         160       \n",
            "                                                                 \n",
            " conv2d_1 (Conv2D)           (None, 2, 22, 64)         8256      \n",
            "                                                                 \n",
            " conv2d_2 (Conv2D)           (None, 2, 21, 128)        16512     \n",
            "                                                                 \n",
            " flatten (Flatten)           (None, 5376)              0         \n",
            "                                                                 \n",
            " dense (Dense)               (None, 96)                516192    \n",
            "                                                                 \n",
            " dense_1 (Dense)             (None, 96)                9312      \n",
            "                                                                 \n",
            " dropout (Dropout)           (None, 96)                0         \n",
            "                                                                 \n",
            " dense_2 (Dense)             (None, 24)                2328      \n",
            "                                                                 \n",
            "=================================================================\n",
            "Total params: 552760 (2.11 MB)\n",
            "Trainable params: 552760 (2.11 MB)\n",
            "Non-trainable params: 0 (0.00 Byte)\n",
            "_________________________________________________________________\n"
          ]
        }
      ]
    },
    {
      "cell_type": "code",
      "source": [
        "model2.compile(loss=MeanSquaredError(), optimizer=Adam(learning_rate=0.0001), metrics=[RootMeanSquaredError()])\n",
        "model2.fit(X1_train,y1_train,epochs=60, validation_data=(X1_val,y1_val), callbacks=[early_stopping_callback])"
      ],
      "metadata": {
        "colab": {
          "base_uri": "https://localhost:8080/"
        },
        "id": "wnD4VPrrpgpu",
        "outputId": "cf24f235-8aba-41ee-c4df-0fdea1587142"
      },
      "execution_count": null,
      "outputs": [
        {
          "output_type": "stream",
          "name": "stdout",
          "text": [
            "Epoch 1/60\n",
            "235/235 [==============================] - 6s 21ms/step - loss: 0.7975 - root_mean_squared_error: 0.8931 - val_loss: 0.5060 - val_root_mean_squared_error: 0.7113\n",
            "Epoch 2/60\n",
            "235/235 [==============================] - 3s 15ms/step - loss: 0.6657 - root_mean_squared_error: 0.8159 - val_loss: 0.3565 - val_root_mean_squared_error: 0.5971\n",
            "Epoch 3/60\n",
            "235/235 [==============================] - 3s 14ms/step - loss: 0.3870 - root_mean_squared_error: 0.6221 - val_loss: 0.1563 - val_root_mean_squared_error: 0.3954\n",
            "Epoch 4/60\n",
            "235/235 [==============================] - 5s 22ms/step - loss: 0.2461 - root_mean_squared_error: 0.4961 - val_loss: 0.1027 - val_root_mean_squared_error: 0.3205\n",
            "Epoch 5/60\n",
            "235/235 [==============================] - 3s 14ms/step - loss: 0.1992 - root_mean_squared_error: 0.4463 - val_loss: 0.0822 - val_root_mean_squared_error: 0.2866\n",
            "Epoch 6/60\n",
            "235/235 [==============================] - 3s 14ms/step - loss: 0.1778 - root_mean_squared_error: 0.4217 - val_loss: 0.0668 - val_root_mean_squared_error: 0.2585\n",
            "Epoch 7/60\n",
            "235/235 [==============================] - 4s 16ms/step - loss: 0.1839 - root_mean_squared_error: 0.4289 - val_loss: 0.0614 - val_root_mean_squared_error: 0.2478\n",
            "Epoch 8/60\n",
            "235/235 [==============================] - 6s 27ms/step - loss: 0.1451 - root_mean_squared_error: 0.3809 - val_loss: 0.0590 - val_root_mean_squared_error: 0.2428\n",
            "Epoch 9/60\n",
            "235/235 [==============================] - 9s 37ms/step - loss: 0.1436 - root_mean_squared_error: 0.3789 - val_loss: 0.0529 - val_root_mean_squared_error: 0.2301\n",
            "Epoch 10/60\n",
            "235/235 [==============================] - 8s 33ms/step - loss: 0.1321 - root_mean_squared_error: 0.3635 - val_loss: 0.0492 - val_root_mean_squared_error: 0.2218\n",
            "Epoch 11/60\n",
            "235/235 [==============================] - 7s 30ms/step - loss: 0.1425 - root_mean_squared_error: 0.3776 - val_loss: 0.0450 - val_root_mean_squared_error: 0.2121\n",
            "Epoch 12/60\n",
            "235/235 [==============================] - 4s 17ms/step - loss: 0.1201 - root_mean_squared_error: 0.3466 - val_loss: 0.0431 - val_root_mean_squared_error: 0.2075\n",
            "Epoch 13/60\n",
            "235/235 [==============================] - 3s 14ms/step - loss: 0.1415 - root_mean_squared_error: 0.3762 - val_loss: 0.0442 - val_root_mean_squared_error: 0.2103\n",
            "Epoch 14/60\n",
            "235/235 [==============================] - 3s 15ms/step - loss: 0.1104 - root_mean_squared_error: 0.3323 - val_loss: 0.0430 - val_root_mean_squared_error: 0.2074\n",
            "Epoch 15/60\n",
            "235/235 [==============================] - 5s 19ms/step - loss: 0.1072 - root_mean_squared_error: 0.3274 - val_loss: 0.0493 - val_root_mean_squared_error: 0.2219\n",
            "Epoch 16/60\n",
            "235/235 [==============================] - 3s 14ms/step - loss: 0.1157 - root_mean_squared_error: 0.3401 - val_loss: 0.0360 - val_root_mean_squared_error: 0.1898\n",
            "Epoch 17/60\n",
            "235/235 [==============================] - 3s 14ms/step - loss: 0.1145 - root_mean_squared_error: 0.3384 - val_loss: 0.0454 - val_root_mean_squared_error: 0.2130\n",
            "Epoch 18/60\n",
            "235/235 [==============================] - 4s 18ms/step - loss: 0.1052 - root_mean_squared_error: 0.3244 - val_loss: 0.0498 - val_root_mean_squared_error: 0.2233\n",
            "Epoch 19/60\n",
            "235/235 [==============================] - 4s 16ms/step - loss: 0.1020 - root_mean_squared_error: 0.3193 - val_loss: 0.0312 - val_root_mean_squared_error: 0.1767\n",
            "Epoch 20/60\n",
            "235/235 [==============================] - 3s 14ms/step - loss: 0.1061 - root_mean_squared_error: 0.3258 - val_loss: 0.0342 - val_root_mean_squared_error: 0.1850\n",
            "Epoch 21/60\n",
            "235/235 [==============================] - 3s 14ms/step - loss: 0.1000 - root_mean_squared_error: 0.3162 - val_loss: 0.0334 - val_root_mean_squared_error: 0.1828\n",
            "Epoch 22/60\n",
            "235/235 [==============================] - 5s 20ms/step - loss: 0.1111 - root_mean_squared_error: 0.3333 - val_loss: 0.0312 - val_root_mean_squared_error: 0.1766\n",
            "Epoch 23/60\n",
            "235/235 [==============================] - 3s 14ms/step - loss: 0.0943 - root_mean_squared_error: 0.3070 - val_loss: 0.0288 - val_root_mean_squared_error: 0.1698\n",
            "Epoch 24/60\n",
            "235/235 [==============================] - 3s 14ms/step - loss: 0.1029 - root_mean_squared_error: 0.3207 - val_loss: 0.0340 - val_root_mean_squared_error: 0.1844\n",
            "Epoch 25/60\n",
            "235/235 [==============================] - 3s 14ms/step - loss: 0.0970 - root_mean_squared_error: 0.3115 - val_loss: 0.0340 - val_root_mean_squared_error: 0.1844\n",
            "Epoch 26/60\n",
            "235/235 [==============================] - 5s 20ms/step - loss: 0.1014 - root_mean_squared_error: 0.3184 - val_loss: 0.0266 - val_root_mean_squared_error: 0.1630\n",
            "Epoch 27/60\n",
            "235/235 [==============================] - 3s 14ms/step - loss: 0.0940 - root_mean_squared_error: 0.3066 - val_loss: 0.0268 - val_root_mean_squared_error: 0.1636\n",
            "Epoch 28/60\n",
            "235/235 [==============================] - 3s 14ms/step - loss: 0.0870 - root_mean_squared_error: 0.2949 - val_loss: 0.0287 - val_root_mean_squared_error: 0.1695\n",
            "Epoch 29/60\n",
            "235/235 [==============================] - 4s 16ms/step - loss: 0.0948 - root_mean_squared_error: 0.3079 - val_loss: 0.0270 - val_root_mean_squared_error: 0.1642\n"
          ]
        },
        {
          "output_type": "execute_result",
          "data": {
            "text/plain": [
              "<keras.src.callbacks.History at 0x7eb5d5826830>"
            ]
          },
          "metadata": {},
          "execution_count": 23
        }
      ]
    },
    {
      "cell_type": "markdown",
      "source": [
        "#Generación de filas iniciales para usar con el modelo 2"
      ],
      "metadata": {
        "id": "jf28wqXfloiw"
      }
    },
    {
      "cell_type": "code",
      "source": [
        "R=np.random.randint(1, 51, size=12)\n",
        "R1=np.random.randint(1, 51, size=12)\n",
        "n_m = tru_mut(R,R1)[1]\n",
        "nfff=n_m.shape[0]\n",
        "minitdif = []\n",
        "for i in range(nfff - 1):\n",
        "    # Utilizar append para agregar las diferencias a la lista\n",
        "    minitdif.append(n_m[i + 1] - n_m[i])\n",
        "n_mm=np.array(minitdif)\n",
        "matrizini=n_mm[:4, :]\n",
        "\n",
        "# Inicializar XX como una lista vacía\n",
        "XX = []\n",
        "\n",
        "# Iterar sobre las primeras 10 filas de matrizini\n",
        "for step in range(2):\n",
        "    # Obtener la fila actual de matrizini\n",
        "    row = matrizini[step:step+4]\n",
        "\n",
        "    # Agregar la fila a la lista XX\n",
        "    XX.append(row)\n",
        "\n",
        "    # Realizar la predicción con los datos reformateados\n",
        "    XX_np = np.array(XX).reshape(-1, 4, 24, 1)\n",
        "    h = model2.predict(XX_np)\n",
        "    hh = np.round(h)\n",
        "\n",
        "    # Agregar la fila predicha a matrizini utilizando vstack\n",
        "    matrizini = np.vstack([matrizini, hh])\n",
        "\n",
        "    print(matrizini)\n"
      ],
      "metadata": {
        "colab": {
          "base_uri": "https://localhost:8080/"
        },
        "id": "Xvt3P9Y4jjFJ",
        "outputId": "08cd0475-9574-49ec-caa1-35606fd251dc"
      },
      "execution_count": null,
      "outputs": [
        {
          "output_type": "stream",
          "name": "stdout",
          "text": [
            "1/1 [==============================] - 0s 21ms/step\n",
            "[[ 0.  0.  0.  0.  0.  0.  0.  0.  0. -1.  0.  1.  0.  0.  0.  0.  0.  0.\n",
            "   0.  0.  1.  0.  0. -1.]\n",
            " [ 0.  0.  0.  0.  0.  0. -1.  0.  0.  0.  1.  0.  0.  0.  0.  0.  0.  0.\n",
            "   0. -1.  0.  0.  0.  1.]\n",
            " [-1.  0.  0.  0.  0.  0.  0.  1.  0.  0.  0.  0.  0.  0.  0. -1.  0.  0.\n",
            "   0.  0.  0.  0.  0.  1.]\n",
            " [ 0.  0.  0.  0.  0. -1.  0.  0.  0.  0.  1.  0.  0.  0.  0.  0.  0.  0.\n",
            "   0.  1.  0.  0.  0. -1.]\n",
            " [-0. -0.  0.  0.  0.  0. -0. -0.  0. -0. -0.  0. -0. -0. -0.  0. -0.  0.\n",
            "  -0. -0. -0.  0. -0.  0.]]\n",
            "1/1 [==============================] - 0s 24ms/step\n",
            "[[ 0.  0.  0.  0.  0.  0.  0.  0.  0. -1.  0.  1.  0.  0.  0.  0.  0.  0.\n",
            "   0.  0.  1.  0.  0. -1.]\n",
            " [ 0.  0.  0.  0.  0.  0. -1.  0.  0.  0.  1.  0.  0.  0.  0.  0.  0.  0.\n",
            "   0. -1.  0.  0.  0.  1.]\n",
            " [-1.  0.  0.  0.  0.  0.  0.  1.  0.  0.  0.  0.  0.  0.  0. -1.  0.  0.\n",
            "   0.  0.  0.  0.  0.  1.]\n",
            " [ 0.  0.  0.  0.  0. -1.  0.  0.  0.  0.  1.  0.  0.  0.  0.  0.  0.  0.\n",
            "   0.  1.  0.  0.  0. -1.]\n",
            " [-0. -0.  0.  0.  0.  0. -0. -0.  0. -0. -0.  0. -0. -0. -0.  0. -0.  0.\n",
            "  -0. -0. -0.  0. -0.  0.]\n",
            " [-0. -0.  0.  0.  0.  0. -0. -0.  0. -0. -0.  0. -0. -0. -0.  0. -0.  0.\n",
            "  -0. -0. -0.  0. -0.  0.]\n",
            " [-0.  0. -0.  0. -0. -0.  0. -0. -0. -0.  0. -0. -0.  0. -0.  0. -0. -0.\n",
            "  -0.  0. -0. -0.  0. -0.]]\n"
          ]
        }
      ]
    },
    {
      "cell_type": "markdown",
      "source": [
        "# Función Plot"
      ],
      "metadata": {
        "id": "SQh9gcNLZc_N"
      }
    },
    {
      "cell_type": "code",
      "source": [
        "from sklearn.metrics import mean_squared_error as mse\n",
        "\n",
        "#def plot_predictions1(model, X, y, start=0, end=6000):\n",
        "#  predictions = model.predict(X).flatten()\n",
        "#  y=y.flatten()\n",
        "#  df = pd.DataFrame(data={'Predictions': predictions, 'Actuals':y})\n",
        "  #plt.plot(df['Persona1 p'][start:end])\n",
        "  #plt.plot(df['Persona1 a'][start:end])\n",
        "  #plt.plot(df['Pressure Predi'][start:end])\n",
        " # plt.plot(df['Pressure Actuals'][start:end])\n",
        "#  return df, mse(predictions, y)\n",
        "\n",
        "\n",
        "def plot_predictions(model, X, y, start=0, end=100):\n",
        "  predictions = model.predict(X)\n",
        "  per1_p, per2_p = predictions[:, 0], predictions[:, 1]\n",
        "  per1_a, per2_a = y[:, 0], y[:, 1]\n",
        "  df = pd.DataFrame(data={'Persona1 predicción': per1_p,\n",
        "                          'Persona1 actual': per1_a,\n",
        "                          'Persona2 predicción': per2_p,\n",
        "                          'Persona2 actual': per2_a\n",
        "                          })\n",
        "  plt.plot(df['Persona1 predicción'][start:end])\n",
        "  plt.plot(df['Persona1 actual'][start:end])\n",
        "  #plt.plot(df['Persona2 predicción'][start:end])\n",
        "  #plt.plot(df['Persona2 actual'][start:end])\n",
        "  return df, mse(predictions[:,0],y[:,0]), mse(predictions[:,1],y[:,1])"
      ],
      "metadata": {
        "id": "XgxSWg-MN5eF"
      },
      "execution_count": null,
      "outputs": []
    },
    {
      "cell_type": "markdown",
      "source": [
        "# Comparación de Gráficas del modelo 2"
      ],
      "metadata": {
        "id": "AB3WF0Uzqp2B"
      }
    },
    {
      "cell_type": "code",
      "source": [
        "plot_predictions(model2, X1_test, y1_test)"
      ],
      "metadata": {
        "id": "OEVLYxyvNd89",
        "colab": {
          "base_uri": "https://localhost:8080/",
          "height": 951
        },
        "outputId": "21ca82b4-ab38-4f5c-fd4f-ea9489d3e55d"
      },
      "execution_count": null,
      "outputs": [
        {
          "output_type": "stream",
          "name": "stdout",
          "text": [
            "64/64 [==============================] - 0s 4ms/step\n"
          ]
        },
        {
          "output_type": "execute_result",
          "data": {
            "text/plain": [
              "(      Persona1 predicción  Persona1 actual  Persona2 predicción  \\\n",
              " 0                0.001110                0             0.115210   \n",
              " 1               -0.076764                0            -0.061113   \n",
              " 2                0.090955                0            -0.027359   \n",
              " 3                0.074881                0            -0.042852   \n",
              " 4               -0.074378                0             0.041582   \n",
              " ...                   ...              ...                  ...   \n",
              " 2029            -0.098179                0             0.064628   \n",
              " 2030             0.111146                0             0.033962   \n",
              " 2031             0.057029                0             0.579862   \n",
              " 2032            -0.056594                0            -0.011491   \n",
              " 2033            -0.067834                0            -0.041313   \n",
              " \n",
              "       Persona2 actual  \n",
              " 0                   0  \n",
              " 1                   0  \n",
              " 2                   0  \n",
              " 3                   0  \n",
              " 4                   0  \n",
              " ...               ...  \n",
              " 2029                0  \n",
              " 2030                0  \n",
              " 2031                1  \n",
              " 2032                0  \n",
              " 2033                0  \n",
              " \n",
              " [2034 rows x 4 columns],\n",
              " 0.024901782484177536,\n",
              " 0.02590176353902455)"
            ]
          },
          "metadata": {},
          "execution_count": 26
        },
        {
          "output_type": "display_data",
          "data": {
            "text/plain": [
              "<Figure size 640x480 with 1 Axes>"
            ],
            "image/png": "[encoded data removed]"
          },
          "metadata": {}
        }
      ]
    },
    {
      "cell_type": "markdown",
      "source": [
        "#Predicción nuevos datos"
      ],
      "metadata": {
        "id": "0Hnnn0F5XV1m"
      }
    },
    {
      "cell_type": "code",
      "source": [
        "R=np.random.randint(1, 51, size=12)\n",
        "R1=np.random.randint(1, 51, size=12)\n",
        "n_m = tru_mut(R,R1)[1]\n",
        "nfff=n_m.shape[0]\n",
        "minitdif = []\n",
        "for i in range(nfff - 1):\n",
        "    # Utilizar append para agregar las diferencias a la lista\n",
        "    minitdif.append(n_m[i + 1] - n_m[i])\n",
        "n_mm=np.array(minitdif)\n",
        "matrizini=n_mm[:4, :]\n",
        "matrizini"
      ],
      "metadata": {
        "colab": {
          "base_uri": "https://localhost:8080/"
        },
        "id": "vQjlKnFI7gkv",
        "outputId": "69e6af39-81b4-44d2-f3b5-20e538701850"
      },
      "execution_count": null,
      "outputs": [
        {
          "output_type": "execute_result",
          "data": {
            "text/plain": [
              "array([[ 0,  0,  0,  1,  0,  0,  0,  0,  0,  0, -1,  0,  0,  0,  0,  1,\n",
              "        -1,  0,  0,  0,  0,  0,  0,  0],\n",
              "       [ 0,  1,  0,  0,  0,  0, -1,  0,  0,  0,  0,  0,  0,  0,  0, -1,\n",
              "         0,  0,  1,  0,  0,  0,  0,  0],\n",
              "       [ 0,  0,  0,  0,  0, -1,  0,  0,  0,  1,  0,  0,  0,  0,  0,  0,\n",
              "         0,  0,  0,  0,  0,  0,  0,  0],\n",
              "       [ 0,  1,  0,  0,  0,  0,  0,  0, -1,  0,  0,  0,  0,  0,  0,  1,\n",
              "        -1,  0,  0,  0,  0,  0,  0,  0]])"
            ]
          },
          "metadata": {},
          "execution_count": 117
        }
      ]
    },
    {
      "cell_type": "code",
      "source": [
        "XX=np.array([matrizini])\n",
        "for step in range(30):\n",
        "  K = np.array([XX[0, step:step+4, :]])\n",
        "  h = model2.predict(K)\n",
        "  hh=np.round(h)\n",
        "  hh = hh.astype(int)\n",
        "  hh_int = hh[:, np.newaxis, :]\n",
        "  XX = np.concatenate([XX, hh_int], axis=1)\n",
        "XX"
      ],
      "metadata": {
        "colab": {
          "base_uri": "https://localhost:8080/"
        },
        "id": "Up3wJn027uNX",
        "outputId": "e26c377d-69ab-447b-f769-81a7dfffdbb9"
      },
      "execution_count": null,
      "outputs": [
        {
          "output_type": "stream",
          "name": "stdout",
          "text": [
            "1/1 [==============================] - 0s 35ms/step\n",
            "1/1 [==============================] - 0s 42ms/step\n",
            "1/1 [==============================] - 0s 38ms/step\n",
            "1/1 [==============================] - 0s 36ms/step\n",
            "1/1 [==============================] - 0s 36ms/step\n",
            "1/1 [==============================] - 0s 39ms/step\n",
            "1/1 [==============================] - 0s 31ms/step\n",
            "1/1 [==============================] - 0s 34ms/step\n",
            "1/1 [==============================] - 0s 39ms/step\n",
            "1/1 [==============================] - 0s 38ms/step\n",
            "1/1 [==============================] - 0s 41ms/step\n",
            "1/1 [==============================] - 0s 34ms/step\n",
            "1/1 [==============================] - 0s 38ms/step\n",
            "1/1 [==============================] - 0s 37ms/step\n",
            "1/1 [==============================] - 0s 37ms/step\n",
            "1/1 [==============================] - 0s 34ms/step\n",
            "1/1 [==============================] - 0s 43ms/step\n",
            "1/1 [==============================] - 0s 35ms/step\n",
            "1/1 [==============================] - 0s 39ms/step\n",
            "1/1 [==============================] - 0s 37ms/step\n",
            "1/1 [==============================] - 0s 40ms/step\n",
            "1/1 [==============================] - 0s 46ms/step\n",
            "1/1 [==============================] - 0s 82ms/step\n",
            "1/1 [==============================] - 0s 85ms/step\n",
            "1/1 [==============================] - 0s 44ms/step\n",
            "1/1 [==============================] - 0s 121ms/step\n",
            "1/1 [==============================] - 0s 66ms/step\n",
            "1/1 [==============================] - 0s 97ms/step\n",
            "1/1 [==============================] - 0s 67ms/step\n",
            "1/1 [==============================] - 0s 30ms/step\n"
          ]
        },
        {
          "output_type": "execute_result",
          "data": {
            "text/plain": [
              "array([[[ 0,  0,  0,  1,  0,  0,  0,  0,  0,  0, -1,  0,  0,  0,  0,  1,\n",
              "         -1,  0,  0,  0,  0,  0,  0,  0],\n",
              "        [ 0,  1,  0,  0,  0,  0, -1,  0,  0,  0,  0,  0,  0,  0,  0, -1,\n",
              "          0,  0,  1,  0,  0,  0,  0,  0],\n",
              "        [ 0,  0,  0,  0,  0, -1,  0,  0,  0,  1,  0,  0,  0,  0,  0,  0,\n",
              "          0,  0,  0,  0,  0,  0,  0,  0],\n",
              "        [ 0,  1,  0,  0,  0,  0,  0,  0, -1,  0,  0,  0,  0,  0,  0,  1,\n",
              "         -1,  0,  0,  0,  0,  0,  0,  0],\n",
              "        [ 1,  1,  0,  0,  0,  0, -1,  0, -1,  0,  0, -1,  0,  1,  0,  0,\n",
              "          0,  0, -1,  3,  0,  0,  1,  1],\n",
              "        [ 0,  0,  0,  0,  0,  0,  0,  0,  0,  0,  0,  0,  0,  0,  0,  0,\n",
              "          0,  0,  0,  0,  0,  0,  0,  0],\n",
              "        [ 0,  0,  0,  0,  0,  0,  0,  0,  0,  0,  1,  0,  0,  0,  0,  0,\n",
              "          0,  0,  0,  0,  0,  0,  0,  0],\n",
              "        [ 0,  0,  0,  0,  0,  0,  0,  0,  0,  0,  0,  0,  0,  0,  0,  0,\n",
              "          0,  0,  0,  0,  0,  0,  0,  0],\n",
              "        [ 0,  0,  0,  0,  0,  0,  0,  0,  0,  0,  0,  0,  0,  0,  0,  0,\n",
              "          0,  0,  0,  0,  0,  0,  0,  0],\n",
              "        [ 0,  0,  0,  0,  0,  0,  0,  0,  0,  0,  0,  0,  0,  0,  0,  0,\n",
              "          0,  0,  0,  0,  0,  0,  0,  0],\n",
              "        [ 0,  0,  0,  0,  0,  0,  0,  0,  0,  0,  0,  0,  0,  0,  0,  0,\n",
              "          0,  0,  0,  0,  0,  0,  0,  0],\n",
              "        [ 0,  0,  0,  0,  0,  0,  0,  0,  0,  0,  0,  0,  0,  0,  0,  0,\n",
              "          0,  0,  0,  0,  0,  0,  0,  0],\n",
              "        [ 0,  0,  0,  0,  0,  0,  0,  0,  0,  0,  0,  0,  0,  0,  0,  0,\n",
              "          0,  0,  0,  0,  0,  0,  0,  0],\n",
              "        [ 0,  0,  0,  0,  0,  0,  0,  0,  0,  0,  0,  0,  0,  0,  0,  0,\n",
              "          0,  0,  0,  0,  0,  0,  0,  0],\n",
              "        [ 0,  0,  0,  0,  0,  0,  0,  0,  0,  0,  0,  0,  0,  0,  0,  0,\n",
              "          0,  0,  0,  0,  0,  0,  0,  0],\n",
              "        [ 0,  0,  0,  0,  0,  0,  0,  0,  0,  0,  0,  0,  0,  0,  0,  0,\n",
              "          0,  0,  0,  0,  0,  0,  0,  0],\n",
              "        [ 0,  0,  0,  0,  0,  0,  0,  0,  0,  0,  0,  0,  0,  0,  0,  0,\n",
              "          0,  0,  0,  0,  0,  0,  0,  0],\n",
              "        [ 0,  0,  0,  0,  0,  0,  0,  0,  0,  0,  0,  0,  0,  0,  0,  0,\n",
              "          0,  0,  0,  0,  0,  0,  0,  0],\n",
              "        [ 0,  0,  0,  0,  0,  0,  0,  0,  0,  0,  0,  0,  0,  0,  0,  0,\n",
              "          0,  0,  0,  0,  0,  0,  0,  0],\n",
              "        [ 0,  0,  0,  0,  0,  0,  0,  0,  0,  0,  0,  0,  0,  0,  0,  0,\n",
              "          0,  0,  0,  0,  0,  0,  0,  0],\n",
              "        [ 0,  0,  0,  0,  0,  0,  0,  0,  0,  0,  0,  0,  0,  0,  0,  0,\n",
              "          0,  0,  0,  0,  0,  0,  0,  0],\n",
              "        [ 0,  0,  0,  0,  0,  0,  0,  0,  0,  0,  0,  0,  0,  0,  0,  0,\n",
              "          0,  0,  0,  0,  0,  0,  0,  0],\n",
              "        [ 0,  0,  0,  0,  0,  0,  0,  0,  0,  0,  0,  0,  0,  0,  0,  0,\n",
              "          0,  0,  0,  0,  0,  0,  0,  0],\n",
              "        [ 0,  0,  0,  0,  0,  0,  0,  0,  0,  0,  0,  0,  0,  0,  0,  0,\n",
              "          0,  0,  0,  0,  0,  0,  0,  0],\n",
              "        [ 0,  0,  0,  0,  0,  0,  0,  0,  0,  0,  0,  0,  0,  0,  0,  0,\n",
              "          0,  0,  0,  0,  0,  0,  0,  0],\n",
              "        [ 0,  0,  0,  0,  0,  0,  0,  0,  0,  0,  0,  0,  0,  0,  0,  0,\n",
              "          0,  0,  0,  0,  0,  0,  0,  0],\n",
              "        [ 0,  0,  0,  0,  0,  0,  0,  0,  0,  0,  0,  0,  0,  0,  0,  0,\n",
              "          0,  0,  0,  0,  0,  0,  0,  0],\n",
              "        [ 0,  0,  0,  0,  0,  0,  0,  0,  0,  0,  0,  0,  0,  0,  0,  0,\n",
              "          0,  0,  0,  0,  0,  0,  0,  0],\n",
              "        [ 0,  0,  0,  0,  0,  0,  0,  0,  0,  0,  0,  0,  0,  0,  0,  0,\n",
              "          0,  0,  0,  0,  0,  0,  0,  0],\n",
              "        [ 0,  0,  0,  0,  0,  0,  0,  0,  0,  0,  0,  0,  0,  0,  0,  0,\n",
              "          0,  0,  0,  0,  0,  0,  0,  0],\n",
              "        [ 0,  0,  0,  0,  0,  0,  0,  0,  0,  0,  0,  0,  0,  0,  0,  0,\n",
              "          0,  0,  0,  0,  0,  0,  0,  0],\n",
              "        [ 0,  0,  0,  0,  0,  0,  0,  0,  0,  0,  0,  0,  0,  0,  0,  0,\n",
              "          0,  0,  0,  0,  0,  0,  0,  0],\n",
              "        [ 0,  0,  0,  0,  0,  0,  0,  0,  0,  0,  0,  0,  0,  0,  0,  0,\n",
              "          0,  0,  0,  0,  0,  0,  0,  0],\n",
              "        [ 0,  0,  0,  0,  0,  0,  0,  0,  0,  0,  0,  0,  0,  0,  0,  0,\n",
              "          0,  0,  0,  0,  0,  0,  0,  0]]])"
            ]
          },
          "metadata": {},
          "execution_count": 120
        }
      ]
    },
    {
      "cell_type": "code",
      "source": [
        "XX=X1_test[:1]\n",
        "for step in range(10):\n",
        "  K = np.array([XX[0, step:step+4, :]])\n",
        "  h = model2.predict(K)\n",
        "  hh=np.round(h)\n",
        "  hh = hh.astype(int)\n",
        "  hh_int = hh[:, np.newaxis, :]\n",
        "  XX = np.concatenate([XX, hh_int], axis=1)\n",
        "XX\n"
      ],
      "metadata": {
        "colab": {
          "base_uri": "https://localhost:8080/"
        },
        "id": "ZpdJJz7q0LwX",
        "outputId": "fd558d99-9643-4246-8fa1-cea748bc5212"
      },
      "execution_count": null,
      "outputs": [
        {
          "output_type": "stream",
          "name": "stdout",
          "text": [
            "1/1 [==============================] - 0s 38ms/step\n",
            "1/1 [==============================] - 0s 31ms/step\n",
            "1/1 [==============================] - 0s 73ms/step\n",
            "1/1 [==============================] - 0s 80ms/step\n",
            "1/1 [==============================] - 0s 82ms/step\n",
            "1/1 [==============================] - 0s 67ms/step\n",
            "1/1 [==============================] - 0s 62ms/step\n",
            "1/1 [==============================] - 0s 29ms/step\n",
            "1/1 [==============================] - 0s 70ms/step\n",
            "1/1 [==============================] - 0s 33ms/step\n"
          ]
        },
        {
          "output_type": "execute_result",
          "data": {
            "text/plain": [
              "array([[[ 0,  0,  0,  0, -1,  1,  0,  0,  0,  0,  0,  0,  0,  0,  0,  0,\n",
              "          0,  0,  1, -1,  0,  0,  0,  0],\n",
              "        [ 0,  0,  0,  0,  0, -1,  0,  0,  0,  0,  1,  0, -1,  0,  0,  0,\n",
              "          0,  0,  1,  0,  0,  0,  0,  0],\n",
              "        [ 0, -1,  0,  0,  0,  0,  0,  0,  0,  1,  0,  0,  1, -1,  0,  0,\n",
              "          0,  0,  0,  0,  0,  0,  0,  0],\n",
              "        [ 0,  0,  0, -1,  0,  1,  0,  0,  0,  0,  0,  0,  0,  0,  0,  0,\n",
              "          0,  0,  0,  1,  0,  0, -1,  0],\n",
              "        [ 0,  0,  0,  0, -1,  0,  0,  0,  0,  1,  0,  0,  0,  0,  0,  0,\n",
              "          0,  1,  0,  0, -1,  0,  0,  0],\n",
              "        [ 0,  0, -1,  0,  0,  0,  0,  0,  0,  0,  1,  0,  0,  0,  0,  0,\n",
              "          0,  0,  0,  0,  0,  0,  0,  0],\n",
              "        [ 0,  0,  0,  0,  0,  0,  0,  0, -1,  0,  0,  1,  0,  0,  1,  0,\n",
              "          0,  0,  0, -1,  0,  0,  0,  0],\n",
              "        [ 0,  0,  0,  0,  1,  0,  0,  0, -1,  0,  0,  0,  1, -1,  0,  0,\n",
              "          0,  0,  0,  0,  0,  0,  0,  0],\n",
              "        [ 0,  0,  0,  0,  0,  1,  0, -1,  0,  0,  0,  0,  0,  0,  0, -1,\n",
              "          0,  0,  1,  0,  0,  0,  0,  0],\n",
              "        [ 0,  0,  0,  0,  0,  0,  0,  0, -1,  1,  0,  0,  0,  0,  0,  0,\n",
              "          0,  0,  0,  0,  1,  0,  0, -1],\n",
              "        [ 0,  0,  0,  0,  0, -1,  0,  0,  0,  0,  0,  1,  0, -1,  0,  0,\n",
              "          0,  1,  0,  0,  0,  0,  0,  0],\n",
              "        [ 0,  0,  0,  1,  0,  0,  0, -1,  0,  0,  0,  0,  0,  0, -1,  0,\n",
              "          0,  1,  0,  0,  0,  0,  0,  0],\n",
              "        [ 0,  0,  0,  0,  0,  1,  0,  0, -1,  0,  0,  0,  0,  0,  0, -1,\n",
              "          0,  1,  0,  0,  0,  0,  0,  0],\n",
              "        [ 0,  0, -1,  0,  0,  0,  0,  0,  0,  0,  1,  0,  0,  0,  0,  0,\n",
              "          1,  0,  0,  0,  0,  0,  0, -1]]])"
            ]
          },
          "metadata": {},
          "execution_count": 116
        }
      ]
    },
    {
      "cell_type": "code",
      "source": [],
      "metadata": {
        "id": "qmAQHlQnxlyS"
      },
      "execution_count": null,
      "outputs": []
    }
  ],
  "metadata": {
    "colab": {
      "collapsed_sections": [
        "5fyJTGNb0e86",
        "xq1NKOcm_YPc",
        "4Al6pqnVbyEz",
        "SQh9gcNLZc_N"
      ],
      "provenance": []
    },
    "kernelspec": {
      "display_name": "Python 3",
      "name": "python3"
    },
    "language_info": {
      "name": "python"
    }
  },
  "nbformat": 4,
  "nbformat_minor": 0
}